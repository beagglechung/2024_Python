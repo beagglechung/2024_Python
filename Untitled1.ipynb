{
  "nbformat": 4,
  "nbformat_minor": 0,
  "metadata": {
    "colab": {
      "provenance": [],
      "authorship_tag": "ABX9TyN1Ko/i1UbUoZ5sXZNg8kjA",
      "include_colab_link": true
    },
    "kernelspec": {
      "name": "python3",
      "display_name": "Python 3"
    },
    "language_info": {
      "name": "python"
    }
  },
  "cells": [
    {
      "cell_type": "markdown",
      "metadata": {
        "id": "view-in-github",
        "colab_type": "text"
      },
      "source": [
        "<a href=\"https://colab.research.google.com/github/beagglechung/2024_Python/blob/main/Untitled1.ipynb\" target=\"_parent\"><img src=\"https://colab.research.google.com/assets/colab-badge.svg\" alt=\"Open In Colab\"/></a>"
      ]
    },
    {
      "cell_type": "code",
      "execution_count": null,
      "metadata": {
        "colab": {
          "base_uri": "https://localhost:8080/"
        },
        "id": "WbczHcjyRMS6",
        "outputId": "f224a753-bf23-46d6-ffb1-2fe6629f3d6f"
      },
      "outputs": [
        {
          "output_type": "stream",
          "name": "stdout",
          "text": [
            "반지름을 입력하세요: 7\n",
            "원의 둘레는 43.96\n",
            "원의 면적은 153.86\n"
          ]
        }
      ],
      "source": [
        "# 원의 둘레와 면적을 계산하는 프로그램\n",
        "\n",
        "# 1. 입력: 사용자로부터 반지름을 입력받기\n",
        "radius = float(input(\"반지름을 입력하세요: \"))  # 입력값을 실수(float)로 변환\n",
        "\n",
        "# 2. 처리: 원의 둘레와 면적을 계산\n",
        "pi = 3.14  # 원주율 π는 3.14로 사용\n",
        "\n",
        "circumference = 2 * pi * radius  # 둘레 = 2πr\n",
        "area = pi * radius * radius      # 면적 = πr²\n",
        "\n",
        "# 3. 출력: f-string을 사용해서 소수점 둘째 자리까지 출력\n",
        "print(f\"원의 둘레는 {circumference:.2f}\")\n",
        "print(f\"원의 면적은 {area:.2f}\")\n"
      ]
    }
  ]
}